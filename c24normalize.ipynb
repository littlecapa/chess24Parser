{
  "cells": [
    {
      "cell_type": "code",
      "source": [
        "import pandas as pd\n",
        "import urllib\n",
        "import re\n",
        "# see https://www.utf8-chartable.de/unicode-utf8-table.pl?start=9728&number=128&names=-&utf8=dec\n",
        "import unicodedata\n",
        "import re\n",
        "\n"
      ],
      "metadata": {
        "id": "PXVp8CrLNxXB"
      },
      "execution_count": 14,
      "outputs": []
    },
    {
      "cell_type": "code",
      "source": [
        "regexStartMultiVar = \"[a-z]{1}\\)\"\n",
        "\n",
        "stringMarkStartMultiVar = \"#%\"\n",
        "regexStartMarkedMultiVar  = stringMarkStartMultiVar  + regexStartMultiVar\n",
        "\n",
        "stringMarkEndMultiVar = \"%#\"\n",
        "regexEndMarkedMultiVar = stringMarkEndMultiVar + regexStartMultiVar\n",
        "\n",
        "def markMultiVar(string):\n",
        "  returnString = \"\"\n",
        "  for line in string.splitlines(False):\n",
        "    tokenList = re.split(regexStartMultiVar, line, 1)\n",
        "    if tokenList[0] == line:\n",
        "      returnString += line\n",
        "    else:\n",
        "      varString = line.replace(tokenList[1],'')\n",
        "      returnString += stringMarkStartMultiVar + varString + tokenList[1] + \" \" + stringMarkEndMultiVar + varString + \"\\n\"\n",
        "\n",
        "  return returnString\n",
        "\n",
        "\n"
      ],
      "metadata": {
        "id": "BDS8t5QKLYwE"
      },
      "execution_count": 29,
      "outputs": []
    },
    {
      "cell_type": "code",
      "source": [
        "result =  markMultiVar(\"a2) 5... ♘a6 6. ♕c2 ♘xc5 7. a3 ♗xc3+ 8. ♕xc3 b6\")\n",
        "print (result)"
      ],
      "metadata": {
        "id": "uhY9mM20T8-i",
        "outputId": "90ba0542-8e61-413f-8838-6477e6a24592",
        "colab": {
          "base_uri": "https://localhost:8080/"
        }
      },
      "execution_count": 31,
      "outputs": [
        {
          "output_type": "stream",
          "name": "stdout",
          "text": [
            "a2) 5... ♘a6 6. ♕c2 ♘xc5 7. a3 ♗xc3+ 8. ♕xc3 b6\n"
          ]
        }
      ]
    },
    {
      "cell_type": "code",
      "source": [
        "def normalizeC24String(c24String):\n",
        "\n",
        "  def convertUnicode(string):\n",
        "    if string[0:2] == \"\\\\u\":\n",
        "      return chr(int(string[2:6], 16))\n",
        "    else:\n",
        "      return string\n",
        "\n",
        "  def replaceUnicode(string):\n",
        "    utfMapFileUrl = \"https://raw.githubusercontent.com/littlecapa/chess24Parser/main/config/mapUTF2PGN.csv\"\n",
        "    mapList = pd.read_csv(utfMapFileUrl, sep=';')\n",
        "    mapList = mapList.fillna(\"\")\n",
        "    for index, row in mapList.iterrows():\n",
        "      string = string.replace(convertUnicode(row[\"UTF\"]), row[\"pgnStr\"])\n",
        "    return string\n",
        "\n",
        "  def findPgnToken(string):\n",
        "    pgnTokenFileUrl = \"https://raw.githubusercontent.com/littlecapa/chess24Parser/main/config/pgntoken.csv\"\n",
        "    pgnList = pd.read_csv(pgnTokenFileUrl, sep=';')\n",
        "    pgnList = pgnList.iloc[pgnList.agg({\"string\":len}).sort_values('string', ascending=False).index]\n",
        "\n",
        "    for index, row in pgnList.iterrows():\n",
        "      string = string.replace(row[\"string\"], row[\"pgnStr\"])\n",
        "    return string\n",
        "  \n",
        "  c24String = replaceUnicode(c24String)\n",
        "  c24String = findPgnToken(c24String)\n",
        "  c24String = markMultiVar(c24String)\n",
        "\n",
        "  return c24String\n"
      ],
      "metadata": {
        "id": "sSZNz8rILNEs"
      },
      "execution_count": 16,
      "outputs": []
    },
    {
      "cell_type": "code",
      "source": [
        "def Test_normalizeC24String():\n",
        "  # Test Case 1\n",
        "  c24String =\"1. d4 d5+/= 2. c4+- c6-+ 3. ♘f3=/+ ♘f6 4. ♘c3 dxc4 5. a4! ♗f5? 6. e3!! e6?? 7. ♗xc4!? ♗b4?! 8. O-O= O-O 9. ♕e2\"\n",
        "  normString = normalizeC24String(c24String)\n",
        "  if normString != \"1. d4 d5$14 2. c4$18 c6$19 3. Nf3$15 Nf6 4. Nc3 dxc4 5. a4$28 Bf5$29 6. e3$3 e6$4 7. Bxc4$24 Bb4$25 8. O-O$10 O-O 9. Qe2\":\n",
        "    print(\"Error\")\n",
        "  else:\n",
        "    print(\"OK\")"
      ],
      "metadata": {
        "id": "UbEJu8Y1uF3G"
      },
      "execution_count": 17,
      "outputs": []
    },
    {
      "cell_type": "code",
      "source": [
        "Test_normalizeC24String()"
      ],
      "metadata": {
        "colab": {
          "base_uri": "https://localhost:8080/",
          "height": 307
        },
        "id": "JYre-B-eD1fJ",
        "outputId": "12f74353-9ac3-4fc9-fac8-ce29a48f3ef6"
      },
      "execution_count": 18,
      "outputs": [
        {
          "output_type": "error",
          "ename": "error",
          "evalue": "ignored",
          "traceback": [
            "\u001b[0;31m---------------------------------------------------------------------------\u001b[0m",
            "\u001b[0;31merror\u001b[0m                                     Traceback (most recent call last)",
            "\u001b[0;32m<ipython-input-18-f24611e89b71>\u001b[0m in \u001b[0;36m<module>\u001b[0;34m()\u001b[0m\n\u001b[0;32m----> 1\u001b[0;31m \u001b[0mTest_normalizeC24String\u001b[0m\u001b[0;34m(\u001b[0m\u001b[0;34m)\u001b[0m\u001b[0;34m\u001b[0m\u001b[0;34m\u001b[0m\u001b[0m\n\u001b[0m",
            "\u001b[0;32m<ipython-input-17-5987b447e110>\u001b[0m in \u001b[0;36mTest_normalizeC24String\u001b[0;34m()\u001b[0m\n\u001b[1;32m      2\u001b[0m   \u001b[0;31m# Test Case 1\u001b[0m\u001b[0;34m\u001b[0m\u001b[0;34m\u001b[0m\u001b[0;34m\u001b[0m\u001b[0m\n\u001b[1;32m      3\u001b[0m   \u001b[0mc24String\u001b[0m \u001b[0;34m=\u001b[0m\u001b[0;34m\"1. d4 d5+/= 2. c4+- c6-+ 3. ♘f3=/+ ♘f6 4. ♘c3 dxc4 5. a4! ♗f5? 6. e3!! e6?? 7. ♗xc4!? ♗b4?! 8. O-O= O-O 9. ♕e2\"\u001b[0m\u001b[0;34m\u001b[0m\u001b[0;34m\u001b[0m\u001b[0m\n\u001b[0;32m----> 4\u001b[0;31m   \u001b[0mnormString\u001b[0m \u001b[0;34m=\u001b[0m \u001b[0mnormalizeC24String\u001b[0m\u001b[0;34m(\u001b[0m\u001b[0mc24String\u001b[0m\u001b[0;34m)\u001b[0m\u001b[0;34m\u001b[0m\u001b[0;34m\u001b[0m\u001b[0m\n\u001b[0m\u001b[1;32m      5\u001b[0m   \u001b[0;32mif\u001b[0m \u001b[0mnormString\u001b[0m \u001b[0;34m!=\u001b[0m \u001b[0;34m\"1. d4 d5$14 2. c4$18 c6$19 3. Nf3$15 Nf6 4. Nc3 dxc4 5. a4$28 Bf5$29 6. e3$3 e6$4 7. Bxc4$24 Bb4$25 8. O-O$10 O-O 9. Qe2\"\u001b[0m\u001b[0;34m:\u001b[0m\u001b[0;34m\u001b[0m\u001b[0;34m\u001b[0m\u001b[0m\n\u001b[1;32m      6\u001b[0m     \u001b[0mprint\u001b[0m\u001b[0;34m(\u001b[0m\u001b[0;34m\"Error\"\u001b[0m\u001b[0;34m)\u001b[0m\u001b[0;34m\u001b[0m\u001b[0;34m\u001b[0m\u001b[0m\n",
            "\u001b[0;32m<ipython-input-16-026cfd930de3>\u001b[0m in \u001b[0;36mnormalizeC24String\u001b[0;34m(c24String)\u001b[0m\n\u001b[1;32m     26\u001b[0m   \u001b[0mc24String\u001b[0m \u001b[0;34m=\u001b[0m \u001b[0mreplaceUnicode\u001b[0m\u001b[0;34m(\u001b[0m\u001b[0mc24String\u001b[0m\u001b[0;34m)\u001b[0m\u001b[0;34m\u001b[0m\u001b[0;34m\u001b[0m\u001b[0m\n\u001b[1;32m     27\u001b[0m   \u001b[0mc24String\u001b[0m \u001b[0;34m=\u001b[0m \u001b[0mfindPgnToken\u001b[0m\u001b[0;34m(\u001b[0m\u001b[0mc24String\u001b[0m\u001b[0;34m)\u001b[0m\u001b[0;34m\u001b[0m\u001b[0;34m\u001b[0m\u001b[0m\n\u001b[0;32m---> 28\u001b[0;31m   \u001b[0mc24String\u001b[0m \u001b[0;34m=\u001b[0m \u001b[0mmarkMultiVar\u001b[0m\u001b[0;34m(\u001b[0m\u001b[0mc24String\u001b[0m\u001b[0;34m)\u001b[0m\u001b[0;34m\u001b[0m\u001b[0;34m\u001b[0m\u001b[0m\n\u001b[0m\u001b[1;32m     29\u001b[0m \u001b[0;34m\u001b[0m\u001b[0m\n\u001b[1;32m     30\u001b[0m   \u001b[0;32mreturn\u001b[0m \u001b[0mc24String\u001b[0m\u001b[0;34m\u001b[0m\u001b[0;34m\u001b[0m\u001b[0m\n",
            "\u001b[0;32m<ipython-input-15-04fdf1537c41>\u001b[0m in \u001b[0;36mmarkMultiVar\u001b[0;34m(string)\u001b[0m\n\u001b[1;32m     10\u001b[0m   \u001b[0mreturnString\u001b[0m \u001b[0;34m=\u001b[0m \u001b[0;34m\"\"\u001b[0m\u001b[0;34m\u001b[0m\u001b[0;34m\u001b[0m\u001b[0m\n\u001b[1;32m     11\u001b[0m   \u001b[0;32mfor\u001b[0m \u001b[0mline\u001b[0m \u001b[0;32min\u001b[0m \u001b[0mstring\u001b[0m\u001b[0;34m.\u001b[0m\u001b[0msplitlines\u001b[0m\u001b[0;34m(\u001b[0m\u001b[0;32mFalse\u001b[0m\u001b[0;34m)\u001b[0m\u001b[0;34m:\u001b[0m\u001b[0;34m\u001b[0m\u001b[0;34m\u001b[0m\u001b[0m\n\u001b[0;32m---> 12\u001b[0;31m     \u001b[0mtokenList\u001b[0m \u001b[0;34m=\u001b[0m \u001b[0mre\u001b[0m\u001b[0;34m.\u001b[0m\u001b[0msplit\u001b[0m\u001b[0;34m(\u001b[0m\u001b[0mregexStartMultiVar\u001b[0m\u001b[0;34m,\u001b[0m \u001b[0mline\u001b[0m\u001b[0;34m,\u001b[0m \u001b[0;36m1\u001b[0m\u001b[0;34m)\u001b[0m\u001b[0;34m\u001b[0m\u001b[0;34m\u001b[0m\u001b[0m\n\u001b[0m\u001b[1;32m     13\u001b[0m     \u001b[0;32mif\u001b[0m \u001b[0mtokenList\u001b[0m\u001b[0;34m[\u001b[0m\u001b[0;36m0\u001b[0m\u001b[0;34m]\u001b[0m \u001b[0;34m==\u001b[0m \u001b[0mline\u001b[0m\u001b[0;34m:\u001b[0m\u001b[0;34m\u001b[0m\u001b[0;34m\u001b[0m\u001b[0m\n\u001b[1;32m     14\u001b[0m       \u001b[0mreturnString\u001b[0m \u001b[0;34m+=\u001b[0m \u001b[0mline\u001b[0m\u001b[0;34m\u001b[0m\u001b[0;34m\u001b[0m\u001b[0m\n",
            "\u001b[0;32m/usr/lib/python3.7/re.py\u001b[0m in \u001b[0;36msplit\u001b[0;34m(pattern, string, maxsplit, flags)\u001b[0m\n\u001b[1;32m    213\u001b[0m     \u001b[0;32mand\u001b[0m \u001b[0mthe\u001b[0m \u001b[0mremainder\u001b[0m \u001b[0mof\u001b[0m \u001b[0mthe\u001b[0m \u001b[0mstring\u001b[0m \u001b[0;32mis\u001b[0m \u001b[0mreturned\u001b[0m \u001b[0;32mas\u001b[0m \u001b[0mthe\u001b[0m \u001b[0mfinal\u001b[0m \u001b[0melement\u001b[0m\u001b[0;34m\u001b[0m\u001b[0;34m\u001b[0m\u001b[0m\n\u001b[1;32m    214\u001b[0m     of the list.\"\"\"\n\u001b[0;32m--> 215\u001b[0;31m     \u001b[0;32mreturn\u001b[0m \u001b[0m_compile\u001b[0m\u001b[0;34m(\u001b[0m\u001b[0mpattern\u001b[0m\u001b[0;34m,\u001b[0m \u001b[0mflags\u001b[0m\u001b[0;34m)\u001b[0m\u001b[0;34m.\u001b[0m\u001b[0msplit\u001b[0m\u001b[0;34m(\u001b[0m\u001b[0mstring\u001b[0m\u001b[0;34m,\u001b[0m \u001b[0mmaxsplit\u001b[0m\u001b[0;34m)\u001b[0m\u001b[0;34m\u001b[0m\u001b[0;34m\u001b[0m\u001b[0m\n\u001b[0m\u001b[1;32m    216\u001b[0m \u001b[0;34m\u001b[0m\u001b[0m\n\u001b[1;32m    217\u001b[0m \u001b[0;32mdef\u001b[0m \u001b[0mfindall\u001b[0m\u001b[0;34m(\u001b[0m\u001b[0mpattern\u001b[0m\u001b[0;34m,\u001b[0m \u001b[0mstring\u001b[0m\u001b[0;34m,\u001b[0m \u001b[0mflags\u001b[0m\u001b[0;34m=\u001b[0m\u001b[0;36m0\u001b[0m\u001b[0;34m)\u001b[0m\u001b[0;34m:\u001b[0m\u001b[0;34m\u001b[0m\u001b[0;34m\u001b[0m\u001b[0m\n",
            "\u001b[0;32m/usr/lib/python3.7/re.py\u001b[0m in \u001b[0;36m_compile\u001b[0;34m(pattern, flags)\u001b[0m\n\u001b[1;32m    286\u001b[0m     \u001b[0;32mif\u001b[0m \u001b[0;32mnot\u001b[0m \u001b[0msre_compile\u001b[0m\u001b[0;34m.\u001b[0m\u001b[0misstring\u001b[0m\u001b[0;34m(\u001b[0m\u001b[0mpattern\u001b[0m\u001b[0;34m)\u001b[0m\u001b[0;34m:\u001b[0m\u001b[0;34m\u001b[0m\u001b[0;34m\u001b[0m\u001b[0m\n\u001b[1;32m    287\u001b[0m         \u001b[0;32mraise\u001b[0m \u001b[0mTypeError\u001b[0m\u001b[0;34m(\u001b[0m\u001b[0;34m\"first argument must be string or compiled pattern\"\u001b[0m\u001b[0;34m)\u001b[0m\u001b[0;34m\u001b[0m\u001b[0;34m\u001b[0m\u001b[0m\n\u001b[0;32m--> 288\u001b[0;31m     \u001b[0mp\u001b[0m \u001b[0;34m=\u001b[0m \u001b[0msre_compile\u001b[0m\u001b[0;34m.\u001b[0m\u001b[0mcompile\u001b[0m\u001b[0;34m(\u001b[0m\u001b[0mpattern\u001b[0m\u001b[0;34m,\u001b[0m \u001b[0mflags\u001b[0m\u001b[0;34m)\u001b[0m\u001b[0;34m\u001b[0m\u001b[0;34m\u001b[0m\u001b[0m\n\u001b[0m\u001b[1;32m    289\u001b[0m     \u001b[0;32mif\u001b[0m \u001b[0;32mnot\u001b[0m \u001b[0;34m(\u001b[0m\u001b[0mflags\u001b[0m \u001b[0;34m&\u001b[0m \u001b[0mDEBUG\u001b[0m\u001b[0;34m)\u001b[0m\u001b[0;34m:\u001b[0m\u001b[0;34m\u001b[0m\u001b[0;34m\u001b[0m\u001b[0m\n\u001b[1;32m    290\u001b[0m         \u001b[0;32mif\u001b[0m \u001b[0mlen\u001b[0m\u001b[0;34m(\u001b[0m\u001b[0m_cache\u001b[0m\u001b[0;34m)\u001b[0m \u001b[0;34m>=\u001b[0m \u001b[0m_MAXCACHE\u001b[0m\u001b[0;34m:\u001b[0m\u001b[0;34m\u001b[0m\u001b[0;34m\u001b[0m\u001b[0m\n",
            "\u001b[0;32m/usr/lib/python3.7/sre_compile.py\u001b[0m in \u001b[0;36mcompile\u001b[0;34m(p, flags)\u001b[0m\n\u001b[1;32m    762\u001b[0m     \u001b[0;32mif\u001b[0m \u001b[0misstring\u001b[0m\u001b[0;34m(\u001b[0m\u001b[0mp\u001b[0m\u001b[0;34m)\u001b[0m\u001b[0;34m:\u001b[0m\u001b[0;34m\u001b[0m\u001b[0;34m\u001b[0m\u001b[0m\n\u001b[1;32m    763\u001b[0m         \u001b[0mpattern\u001b[0m \u001b[0;34m=\u001b[0m \u001b[0mp\u001b[0m\u001b[0;34m\u001b[0m\u001b[0;34m\u001b[0m\u001b[0m\n\u001b[0;32m--> 764\u001b[0;31m         \u001b[0mp\u001b[0m \u001b[0;34m=\u001b[0m \u001b[0msre_parse\u001b[0m\u001b[0;34m.\u001b[0m\u001b[0mparse\u001b[0m\u001b[0;34m(\u001b[0m\u001b[0mp\u001b[0m\u001b[0;34m,\u001b[0m \u001b[0mflags\u001b[0m\u001b[0;34m)\u001b[0m\u001b[0;34m\u001b[0m\u001b[0;34m\u001b[0m\u001b[0m\n\u001b[0m\u001b[1;32m    765\u001b[0m     \u001b[0;32melse\u001b[0m\u001b[0;34m:\u001b[0m\u001b[0;34m\u001b[0m\u001b[0;34m\u001b[0m\u001b[0m\n\u001b[1;32m    766\u001b[0m         \u001b[0mpattern\u001b[0m \u001b[0;34m=\u001b[0m \u001b[0;32mNone\u001b[0m\u001b[0;34m\u001b[0m\u001b[0;34m\u001b[0m\u001b[0m\n",
            "\u001b[0;32m/usr/lib/python3.7/sre_parse.py\u001b[0m in \u001b[0;36mparse\u001b[0;34m(str, flags, pattern)\u001b[0m\n\u001b[1;32m    936\u001b[0m     \u001b[0;32mif\u001b[0m \u001b[0msource\u001b[0m\u001b[0;34m.\u001b[0m\u001b[0mnext\u001b[0m \u001b[0;32mis\u001b[0m \u001b[0;32mnot\u001b[0m \u001b[0;32mNone\u001b[0m\u001b[0;34m:\u001b[0m\u001b[0;34m\u001b[0m\u001b[0;34m\u001b[0m\u001b[0m\n\u001b[1;32m    937\u001b[0m         \u001b[0;32massert\u001b[0m \u001b[0msource\u001b[0m\u001b[0;34m.\u001b[0m\u001b[0mnext\u001b[0m \u001b[0;34m==\u001b[0m \u001b[0;34m\")\"\u001b[0m\u001b[0;34m\u001b[0m\u001b[0;34m\u001b[0m\u001b[0m\n\u001b[0;32m--> 938\u001b[0;31m         \u001b[0;32mraise\u001b[0m \u001b[0msource\u001b[0m\u001b[0;34m.\u001b[0m\u001b[0merror\u001b[0m\u001b[0;34m(\u001b[0m\u001b[0;34m\"unbalanced parenthesis\"\u001b[0m\u001b[0;34m)\u001b[0m\u001b[0;34m\u001b[0m\u001b[0;34m\u001b[0m\u001b[0m\n\u001b[0m\u001b[1;32m    939\u001b[0m \u001b[0;34m\u001b[0m\u001b[0m\n\u001b[1;32m    940\u001b[0m     \u001b[0;32mif\u001b[0m \u001b[0mflags\u001b[0m \u001b[0;34m&\u001b[0m \u001b[0mSRE_FLAG_DEBUG\u001b[0m\u001b[0;34m:\u001b[0m\u001b[0;34m\u001b[0m\u001b[0;34m\u001b[0m\u001b[0m\n",
            "\u001b[0;31merror\u001b[0m: unbalanced parenthesis at position 8"
          ]
        }
      ]
    },
    {
      "cell_type": "code",
      "source": [
        "# Tokenizer\n",
        "regexWhiteMoveNr = \"([0-9]+[\\\\.]{1})\"\n",
        "regexBlackMoveNr = \"([0-9]+[\\\\.]{3})\"\n",
        "regexMoveNr = \"(\" + regexBlackMoveNr + \"|\" + regexWhiteMoveNr + \")\"\n",
        "regexNagOpt = \"(\\\\$[0-9]+)?\"\n",
        "regexPiece  = \"([K|Q|R|B|N])\"\n",
        "regexPromoted             = regexPiece + \"?\"\n",
        "regexFile                 = \"([a-h])\"\n",
        "regexRank                 = \"([1-8])\"\n",
        "regexSquare               = regexFile + regexRank\n",
        "regexXorFileRankSquareOpt = \"(\" + regexFile + \"|\" + regexRank + \"|\" + regexSquare + \")?\"\n",
        "regexCapture              = \"[x]?\"\n",
        "regexCastleMove           = \"(O\\\\-O|O\\\\-O\\\\-O)\"\n",
        "regexPieceMove            = regexPiece + regexXorFileRankSquareOpt + regexCapture + regexSquare\n",
        "regexPawnPushMove         = regexSquare + regexPromoted\n",
        "regexPawnCaptureMove      = regexFile + regexRank + \"?\" + regexCapture + regexPawnPushMove\n",
        "regexChessOrMate          = \"(\\\\+|#){0,1}\"\n",
        "regexMove                 = \"(\" + regexPieceMove + \"|\" + regexPawnPushMove + \"|\" + regexPawnCaptureMove + \"|\" + regexCastleMove + \")\" + regexChessOrMate + regexNagOpt\n",
        "\n",
        "# regexMoveinComment : wird beim Normalisieren verwendet,\n",
        "# um Züge in Kommentaren zu finden\n",
        "\n",
        "regexMoveinComment = \"(\" + regexPieceMove + \")\"\n",
        "moveInCommentTag = \"#MICT#\"\n",
        "\n",
        "\n",
        "\n",
        "stringStartIfVar    = \"%IF%\"\n",
        "regexStartIfVar     = \"(\" + stringStartIfVar + \")\"\n",
        "\n",
        "\n",
        "regexStartSingleVar = \"( \\\\()\"\n",
        "regexEndSingleVar   = \"(\\\\))\"\n",
        "\n",
        "\n",
        "regexMoveOrNrOrVar = \"(\" + regexMoveNr + \"|\" + regexMove + \"|\" + regexStartMarkedMultiVar + \"|\" + regexEndMarkedMultiVar + \"|\" + regexStartSingleVar + \"|\" + regexStartIfVar + \"|\" + regexEndSingleVar + \"|(\\\\n)\" + \")\"\n",
        "\n",
        "\n",
        "\n"
      ],
      "metadata": {
        "id": "wbeOE5K5DcQm"
      },
      "execution_count": null,
      "outputs": []
    },
    {
      "cell_type": "code",
      "source": [
        "def testLeningrad():\n",
        "  url = \"https://raw.githubusercontent.com/littlecapa/chess24Parser/main/testdata/nimzoOddsEnds.c24\"\n",
        "  file = urllib.request.urlopen(url)\n",
        "  c24String = \"\"\n",
        "\n",
        "  for line in file:\n",
        "    c24String += str(line.decode('utf-8'))\n",
        "\n",
        "  normString = normalizeC24String(c24String)\n",
        "  print (normString)\n",
        "\n",
        "testLeningrad()"
      ],
      "metadata": {
        "id": "628PnPUp_rFN"
      },
      "execution_count": null,
      "outputs": []
    }
  ],
  "metadata": {
    "interpreter": {
      "hash": "cd78fef2128015050713e82ca51c6520b11aee7c9ee8df750520bbbc7384cbaa"
    },
    "kernelspec": {
      "display_name": "Python 3.7.6 64-bit ('base': conda)",
      "language": "python",
      "name": "python3"
    },
    "language_info": {
      "name": "python",
      "version": "3.7.6"
    },
    "orig_nbformat": 4,
    "colab": {
      "name": "c24normalize.ipynb",
      "provenance": []
    }
  },
  "nbformat": 4,
  "nbformat_minor": 0
}