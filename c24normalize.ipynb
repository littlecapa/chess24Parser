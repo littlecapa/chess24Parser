{
  "cells": [
    {
      "cell_type": "code",
      "source": [
        "import pandas as pd\n",
        "import urllib\n",
        "import re\n",
        "# see https://www.utf8-chartable.de/unicode-utf8-table.pl?start=9728&number=128&names=-&utf8=dec\n",
        "import unicodedata\n",
        "import re\n",
        "\n"
      ],
      "metadata": {
        "id": "PXVp8CrLNxXB"
      },
      "execution_count": 49,
      "outputs": []
    },
    {
      "cell_type": "code",
      "source": [
        "# Test regex on https://extendsclass.com/regex-tester.html#python\n",
        "\n",
        "regexStartMultiVar = \"[a-z][1-9]*\\)\"\n",
        "\n",
        "stringMarkStartMultiVar = \"#%\"\n",
        "regexStartMarkedMultiVar  = stringMarkStartMultiVar  + regexStartMultiVar\n",
        "\n",
        "stringMarkEndMultiVar = \"%#\"\n",
        "regexEndMarkedMultiVar = stringMarkEndMultiVar + regexStartMultiVar\n",
        "\n",
        "def markMultiVar(string):\n",
        "  returnString = \"\"\n",
        "  for line in string.splitlines(False):\n",
        "    tokenList = re.split(regexStartMultiVar, line, 1)\n",
        "    if tokenList[0] == line:\n",
        "      returnString += line + \"\\n\"\n",
        "    else:\n",
        "      varString = line.replace(tokenList[1],'')\n",
        "      # Does it make sense to mark the end of a line?\n",
        "      #returnString += stringMarkStartMultiVar + varString + tokenList[1] + \" \" + stringMarkEndMultiVar + varString + \"\\n\"\n",
        "      returnString += stringMarkStartMultiVar + varString + tokenList[1] + \"\\n\"\n",
        "\n",
        "  return returnString\n",
        "\n",
        "\n"
      ],
      "metadata": {
        "id": "BDS8t5QKLYwE"
      },
      "execution_count": 50,
      "outputs": []
    },
    {
      "cell_type": "code",
      "source": [
        "result =  markMultiVar(\"a2) 5... ♘a6 6. ♕c2 ♘xc5 7. a3 ♗xc3+ 8. ♕xc3 b6\")\n",
        "print (result)"
      ],
      "metadata": {
        "colab": {
          "base_uri": "https://localhost:8080/"
        },
        "id": "uhY9mM20T8-i",
        "outputId": "0d29d327-d688-499b-aa8f-a8e045d17fa2"
      },
      "execution_count": 51,
      "outputs": [
        {
          "output_type": "stream",
          "name": "stdout",
          "text": [
            "#%a2) 5... ♘a6 6. ♕c2 ♘xc5 7. a3 ♗xc3+ 8. ♕xc3 b6\n",
            "\n"
          ]
        }
      ]
    },
    {
      "cell_type": "code",
      "source": [
        "def normalizeC24String(c24String):\n",
        "\n",
        "  def convertUnicode(string):\n",
        "    if string[0:2] == \"\\\\u\":\n",
        "      return chr(int(string[2:6], 16))\n",
        "    else:\n",
        "      return string\n",
        "\n",
        "  def replaceUnicode(string):\n",
        "    utfMapFileUrl = \"https://raw.githubusercontent.com/littlecapa/chess24Parser/main/config/mapUTF2PGN.csv\"\n",
        "    mapList = pd.read_csv(utfMapFileUrl, sep=';')\n",
        "    mapList = mapList.fillna(\"\")\n",
        "    for index, row in mapList.iterrows():\n",
        "      string = string.replace(convertUnicode(row[\"UTF\"]), row[\"pgnStr\"])\n",
        "    return string\n",
        "\n",
        "  def findPgnToken(string):\n",
        "    pgnTokenFileUrl = \"https://raw.githubusercontent.com/littlecapa/chess24Parser/main/config/pgntoken.csv\"\n",
        "    pgnList = pd.read_csv(pgnTokenFileUrl, sep=';')\n",
        "    pgnList = pgnList.iloc[pgnList.agg({\"string\":len}).sort_values('string', ascending=False).index]\n",
        "\n",
        "    for index, row in pgnList.iterrows():\n",
        "      string = string.replace(row[\"string\"], row[\"pgnStr\"])\n",
        "    return string\n",
        "\n",
        "  def cleanUp(string):\n",
        "    regexMultipleNL = \"\\n(\\n)+\"\n",
        "    return (re.sub(regexMultipleNL, \"\\n\", string))\n",
        "  \n",
        "  c24String = replaceUnicode(c24String)\n",
        "  c24String = findPgnToken(c24String)\n",
        "  c24String = markMultiVar(c24String)\n",
        "  c24String = cleanUp(c24String)\n",
        "\n",
        "  return c24String\n"
      ],
      "metadata": {
        "id": "sSZNz8rILNEs"
      },
      "execution_count": 52,
      "outputs": []
    },
    {
      "cell_type": "code",
      "source": [
        "def Test_normalizeC24String():\n",
        "  # Test Case 1\n",
        "  c24String =\"1. d4 d5+/= 2. c4+- c6-+ 3. ♘f3=/+ ♘f6 4. ♘c3 dxc4 5. a4! ♗f5? 6. e3!! e6?? 7. ♗xc4!? ♗b4?! 8. O-O= O-O 9. ♕e2\"\n",
        "  normString = normalizeC24String(c24String)\n",
        "  \n",
        "  if normString != \"1. d4 d5$14 2. c4$18 c6$19 3. Nf3$15 Nf6 4. Nc3 dxc4 5. a4$28 Bf5$29 6. e3$3 e6$4 7. Bxc4$24 Bb4$25 8. O-O$10 O-O 9. Qe2\\n\":\n",
        "    print(\"Error\")\n",
        "    print(normString)\n",
        "  else:\n",
        "    print(\"OK\")"
      ],
      "metadata": {
        "id": "UbEJu8Y1uF3G"
      },
      "execution_count": 53,
      "outputs": []
    },
    {
      "cell_type": "code",
      "source": [
        "Test_normalizeC24String()"
      ],
      "metadata": {
        "colab": {
          "base_uri": "https://localhost:8080/"
        },
        "id": "JYre-B-eD1fJ",
        "outputId": "df3b58c3-3b3c-4f09-cd94-148018011fe9"
      },
      "execution_count": 54,
      "outputs": [
        {
          "output_type": "stream",
          "name": "stdout",
          "text": [
            "OK\n"
          ]
        }
      ]
    },
    {
      "cell_type": "code",
      "source": [
        "# Tokenizer\n",
        "regexWhiteMoveNr = \"([0-9]+[\\\\.]{1})\"\n",
        "regexBlackMoveNr = \"([0-9]+[\\\\.]{3})\"\n",
        "regexMoveNr = \"(\" + regexBlackMoveNr + \"|\" + regexWhiteMoveNr + \")\"\n",
        "regexNagOpt = \"(\\\\$[0-9]+)?\"\n",
        "regexPiece  = \"([K|Q|R|B|N])\"\n",
        "regexPromoted             = regexPiece + \"?\"\n",
        "regexFile                 = \"([a-h])\"\n",
        "regexRank                 = \"([1-8])\"\n",
        "regexSquare               = regexFile + regexRank\n",
        "regexXorFileRankSquareOpt = \"(\" + regexFile + \"|\" + regexRank + \"|\" + regexSquare + \")?\"\n",
        "regexCapture              = \"[x]?\"\n",
        "regexCastleMove           = \"(O\\\\-O|O\\\\-O\\\\-O)\"\n",
        "regexPieceMove            = regexPiece + regexXorFileRankSquareOpt + regexCapture + regexSquare\n",
        "regexPawnPushMove         = regexSquare + regexPromoted\n",
        "regexPawnCaptureMove      = regexFile + regexRank + \"?\" + regexCapture + regexPawnPushMove\n",
        "regexChessOrMate          = \"(\\\\+|#){0,1}\"\n",
        "regexMove                 = \"(\" + regexPieceMove + \"|\" + regexPawnPushMove + \"|\" + regexPawnCaptureMove + \"|\" + regexCastleMove + \")\" + regexChessOrMate + regexNagOpt\n",
        "\n",
        "# regexMoveinComment : wird beim Normalisieren verwendet,\n",
        "# um Züge in Kommentaren zu finden\n",
        "\n",
        "regexMoveinComment = \"(\" + regexPieceMove + \")\"\n",
        "moveInCommentTag = \"#MICT#\"\n",
        "\n",
        "\n",
        "\n",
        "stringStartIfVar    = \"%IF%\"\n",
        "regexStartIfVar     = \"(\" + stringStartIfVar + \")\"\n",
        "\n",
        "\n",
        "regexStartSingleVar = \"( \\\\()\"\n",
        "regexEndSingleVar   = \"(\\\\))\"\n",
        "\n",
        "\n",
        "regexMoveOrNrOrVar = \"(\" + regexMoveNr + \"|\" + regexMove + \"|\" + regexStartMarkedMultiVar + \"|\" + regexEndMarkedMultiVar + \"|\" + regexStartSingleVar + \"|\" + regexStartIfVar + \"|\" + regexEndSingleVar + \"|(\\\\n)\" + \")\"\n",
        "\n",
        "\n",
        "\n"
      ],
      "metadata": {
        "id": "wbeOE5K5DcQm"
      },
      "execution_count": 55,
      "outputs": []
    },
    {
      "cell_type": "code",
      "source": [
        "def testLeningrad():\n",
        "  url = \"https://raw.githubusercontent.com/littlecapa/chess24Parser/main/testdata/nimzoOddsEnds.c24\"\n",
        "  file = urllib.request.urlopen(url)\n",
        "  c24String = \"\"\n",
        "\n",
        "  for line in file:\n",
        "    c24String += str(line.decode('utf-8')) + \"\\n\"\n",
        "\n",
        "  normString = normalizeC24String(c24String)\n",
        "  print (normString)\n",
        "\n",
        "testLeningrad()"
      ],
      "metadata": {
        "colab": {
          "base_uri": "https://localhost:8080/"
        },
        "id": "628PnPUp_rFN",
        "outputId": "fc034b4d-8d71-4892-a617-b2874f6b4ec7"
      },
      "execution_count": 56,
      "outputs": [
        {
          "output_type": "stream",
          "name": "stdout",
          "text": [
            "1. d4  Nf6 2. c4 e6 3. Nc3 Bb4 4. Qb3\n",
            "4. Bd2 O-O 5. e3\n",
            "#%a) 5... b6 6. Nf3 Bb7 7. Bd3 d5 ( 7... d6 8. O-O Nbd7 9. a3 Bxc3 10. Bxc3 Ne4 ) 8. O-O\n",
            "#%b) 5... d5 6. Nf3 b6 ( 6... Re8 7. Bd3 dxc4 8. Bxc4 ) 7. a3 Be7\n",
            "4. Bg5 c5\n",
            "#%a) 5. dxc5\n",
            "#%a1) 5... h6 6. Bh4 ( 6. Bd2 ) 6... Qa5 7. Bxf6\n",
            "#%a2) 5... Na6 6. Qc2 Nxc5 7. a3 Bxc3+ 8. Qxc3 b6\n",
            "#%b) 5. d5 d6\n",
            "#%b1) 6. e3 exd5 7. cxd5 Nbd7\n",
            "#%b11) 8. Nf3 Qa5\n",
            "#%b12) 8. Bd3 Qa5 9. Ne2 Nxd5 10. O-O Bxc3 11. bxc3 c4 12. Bc2 ( 12. Be4 N5f6 13. Bxf6 Nxf6 14. Bf3 Qc5 ; 12. Bxc4 N5b6 ) 12... O-O\n",
            "#%b121) 13. Qd4 Nxc3\n",
            "#%b122) 13. Ng3 Nxc3 14. Qh5 f5 15. e4 ( 15. Be7 Rf7 16. Nxf5 Ne5 17. Bxd6 Bxf5 18. Bxf5 Nf3+ 19. Qxf3 Qxf5 20. Qxf5 Ne2+ 21. Kh1 Rxf5 22. Rae1 Nc3 ) 15... Nxe4\n",
            "#%b123) 13. Bh4 13... Nxc3 14. Nxc3 Qxc3 15. Rc1 Qa3 ( 15... Qe5 16. Bg3 Qe6 17. Qxd6 Qxd6 18. Bxd6 Rd8 19. Be4 Nf6 ) 16. Be7 Re8 17. Bxd6 Qa6 ( 17... Qxa2 ) 18. e4 Qc6\n",
            "#%b13) 8. Bb5 8... h6 ( 8... a6 9. Bxd7+ Bxd7 10. Qf3 ) 9. Bh4 Bxc3+ 10. bxc3 O-O 11. Ne2 Nb6 12. O-O Nbxd5\n",
            "#%b2) 6. f3 6... h6 7. Bh4 O-O 8. e4 Re8 ( 8... b5 ) 9. Ne2 exd5 10. cxd5 Nbd7\n",
            "#%c) 5. e3 5... Qa5\n",
            "4... c5 5. Nf3\n",
            "5. dxc5 Nc6\n",
            "#%a) 6. Bg5 h6 ( 6... Nd4 ; 6... Bxc5 7. e3 ) 7. Bxf6 Qxf6 8. Nf3 Bxc5 ( 8... Bxc3+ 9. Qxc3 Qxc3+ 10. bxc3 Ke7 ) 9. e3 b6 10. Be2 O-O 11. O-O Bb7\n",
            "#%b) 6. a3 Nd4 7. Qd1 Bxc3+ 8. bxc3 Nc6\n",
            "#%c) 6. Nf3 6... Ne4 7. Bd2 Nxd2 8. Nxd2 f5 9. e3 Bxc5 10. Be2 O-O\n",
            "5... b6\n",
            "5... Ne4 6. e3 Qa5 7. Bd3 ( 7. Bd2 Nxd2 8. Nxd2 cxd4 9. exd4 Nc6 ) 7... Nxc3 8. O-O Nxa2 9. Rxa2 Qc7\n",
            "6. a3 Ba5\n",
            "     \n",
            "\n"
          ]
        }
      ]
    }
  ],
  "metadata": {
    "interpreter": {
      "hash": "cd78fef2128015050713e82ca51c6520b11aee7c9ee8df750520bbbc7384cbaa"
    },
    "kernelspec": {
      "display_name": "Python 3.7.6 64-bit ('base': conda)",
      "language": "python",
      "name": "python3"
    },
    "language_info": {
      "name": "python",
      "version": "3.7.6"
    },
    "orig_nbformat": 4,
    "colab": {
      "name": "c24normalize.ipynb",
      "provenance": []
    }
  },
  "nbformat": 4,
  "nbformat_minor": 0
}