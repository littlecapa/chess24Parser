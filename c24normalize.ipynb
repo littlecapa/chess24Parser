{
  "cells": [
    {
      "cell_type": "code",
      "source": [
        "import pandas as pd\n",
        "import urllib\n",
        "# see https://www.utf8-chartable.de/unicode-utf8-table.pl?start=9728&number=128&names=-&utf8=dec\n",
        "import unicodedata\n",
        "\n",
        "def normalizeC24String(c24String):\n",
        "\n",
        "  def convertUnicode(string):\n",
        "    if string[0:2] == \"\\\\u\":\n",
        "      return chr(int(string[2:6], 16))\n",
        "    else:\n",
        "      return string\n",
        "\n",
        "  def replaceUnicode(string):\n",
        "    utfMapFileUrl = \"https://raw.githubusercontent.com/littlecapa/chess24Parser/main/config/mapUTF2PGN.csv\"\n",
        "    mapList = pd.read_csv(utfMapFileUrl, sep=';')\n",
        "    mapList = mapList.fillna(\"\")\n",
        "    for index, row in mapList.iterrows():\n",
        "      string = string.replace(convertUnicode(row[\"UTF\"]), row[\"pgnStr\"])\n",
        "    return string\n",
        "\n",
        "  def findPgnToken(string):\n",
        "    pgnTokenFileUrl = \"https://raw.githubusercontent.com/littlecapa/chess24Parser/main/config/pgntoken.csv\"\n",
        "    pgnList = pd.read_csv(pgnTokenFileUrl, sep=';')\n",
        "    pgnList = pgnList.iloc[pgnList.agg({\"string\":len}).sort_values('string', ascending=False).index]\n",
        "\n",
        "    for index, row in pgnList.iterrows():\n",
        "      string = string.replace(row[\"string\"], row[\"pgnStr\"])\n",
        "    return string\n",
        "\n",
        "  c24String = replaceUnicode(c24String)\n",
        "  c24String = findPgnToken(c24String)\n",
        "\n",
        "  return c24String\n"
      ],
      "metadata": {
        "id": "PXVp8CrLNxXB"
      },
      "execution_count": 7,
      "outputs": []
    },
    {
      "cell_type": "code",
      "source": [
        "def Test_normalizeC24String():\n",
        "  # Test Case 1\n",
        "  c24String =\"1. d4 d5+/= 2. c4+- c6-+ 3. ♘f3=/+ ♘f6 4. ♘c3 dxc4 5. a4! ♗f5? 6. e3!! e6?? 7. ♗xc4!? ♗b4?! 8. O-O= O-O 9. ♕e2\"\n",
        "  normString = normalizeC24String(c24String)\n",
        "  if normString != \"1. d4 d5$14 2. c4$18 c6$19 3. Nf3$15 Nf6 4. Nc3 dxc4 5. a4$28 Bf5$29 6. e3$3 e6$4 7. Bxc4$24 Bb4$25 8. O-O$10 O-O 9. Qe2\":\n",
        "    print(\"Error\")\n",
        "  else:\n",
        "    print(\"OK\")"
      ],
      "metadata": {
        "id": "UbEJu8Y1uF3G"
      },
      "execution_count": 2,
      "outputs": []
    },
    {
      "cell_type": "code",
      "source": [
        "Test_normalizeC24String()"
      ],
      "metadata": {
        "colab": {
          "base_uri": "https://localhost:8080/"
        },
        "id": "JYre-B-eD1fJ",
        "outputId": "287d37f0-730a-48fa-c954-bc1024edef9a"
      },
      "execution_count": 3,
      "outputs": [
        {
          "output_type": "stream",
          "name": "stdout",
          "text": [
            "OK\n"
          ]
        }
      ]
    },
    {
      "cell_type": "code",
      "source": [
        "def testLeningrad():\n",
        "  url = \"https://raw.githubusercontent.com/littlecapa/chess24Parser/main/testdata/nimzoOddsEnds.c24\"\n",
        "  file = urllib.request.urlopen(url)\n",
        "  c24String = \"\"\n",
        "\n",
        "  for line in file:\n",
        "    c24String += str(line.decode('utf-8'))\n",
        "\n",
        "  normString = normalizeC24String(c24String)\n",
        "  print (normString)\n",
        "\n",
        "testLeningrad()"
      ],
      "metadata": {
        "id": "628PnPUp_rFN",
        "outputId": "1c64edb6-6344-43ff-f465-f63b0a6225c9",
        "colab": {
          "base_uri": "https://localhost:8080/"
        }
      },
      "execution_count": 11,
      "outputs": [
        {
          "output_type": "stream",
          "name": "stdout",
          "text": [
            "1. d4  ♘f6 2. c4 e6 3. ♘c3 ♗b4 4. ♕b3\n",
            "\n",
            "4. ♗d2 O-O 5. e3\n",
            "\n",
            "a) 5... b6 6. ♘f3 ♗b7 7. ♗d3 d5 ( 7... d6 8. O-O ♘bd7 9. a3 ♗xc3 10. ♗xc3 ♘e4 ) 8. O-O\n",
            "\n",
            "b) 5... d5 6. ♘f3 b6 ( 6... ♖e8 7. ♗d3 dxc4 8. ♗xc4 ) 7. a3 ♗e7\n",
            "\n",
            "4. ♗g5 c5\n",
            "\n",
            "a) 5. dxc5\n",
            "\n",
            "a1) 5... h6 6. ♗h4 ( 6. ♗d2 ) 6... ♕a5 7. ♗xf6\n",
            "\n",
            "a2) 5... ♘a6 6. ♕c2 ♘xc5 7. a3 ♗xc3+ 8. ♕xc3 b6\n",
            "\n",
            "b) 5. d5 d6\n",
            "\n",
            "b1) 6. e3 exd5 7. cxd5 ♘bd7\n",
            "\n",
            "b11) 8. ♘f3 ♕a5\n",
            "\n",
            "b12) 8. ♗d3 ♕a5 9. ♘e2 ♘xd5 10. O-O ♗xc3 11. bxc3 c4 12. ♗c2 ( 12. ♗e4 ♘5f6 13. ♗xf6 ♘xf6 14. ♗f3 ♕c5 ; 12. ♗xc4 ♘5b6 ) 12... O-O\n",
            "\n",
            "b121) 13. ♕d4 ♘xc3\n",
            "\n",
            "b122) 13. ♘g3 ♘xc3 14. ♕h5 f5 15. e4 ( 15. ♗e7 ♖f7 16. ♘xf5 ♘e5 17. ♗xd6 ♗xf5 18. ♗xf5 ♘f3+ 19. ♕xf3 ♕xf5 20. ♕xf5 ♘e2+ 21. ♔h1 ♖xf5 22. ♖ae1 ♘c3 ) 15... ♘xe4\n",
            "\n",
            "b123) 13. ♗h4 13... ♘xc3 14. ♘xc3 ♕xc3 15. ♖c1 ♕a3 ( 15... ♕e5 16. ♗g3 ♕e6 17. ♕xd6 ♕xd6 18. ♗xd6 ♖d8 19. ♗e4 ♘f6 ) 16. ♗e7 ♖e8 17. ♗xd6 ♕a6 ( 17... ♕xa2 ) 18. e4 ♕c6\n",
            "\n",
            "b13) 8. ♗b5 8... h6 ( 8... a6 9. ♗xd7+ ♗xd7 10. ♕f3 ) 9. ♗h4 ♗xc3+ 10. bxc3 O-O 11. ♘e2 ♘b6 12. O-O ♘bxd5\n",
            "\n",
            "b2) 6. f3 6... h6 7. ♗h4 O-O 8. e4 ♖e8 ( 8... b5 ) 9. ♘e2 exd5 10. cxd5 ♘bd7\n",
            "\n",
            "c) 5. e3 5... ♕a5\n",
            "\n",
            "4... c5 5. ♘f3\n",
            "\n",
            "5. dxc5 ♘c6\n",
            "\n",
            "a) 6. ♗g5 h6 ( 6... ♘d4 ; 6... ♗xc5 7. e3 ) 7. ♗xf6 ♕xf6 8. ♘f3 ♗xc5 ( 8... ♗xc3+ 9. ♕xc3 ♕xc3+ 10. bxc3 ♔e7 ) 9. e3 b6 10. ♗e2 O-O 11. O-O ♗b7\n",
            "\n",
            "b) 6. a3 ♘d4 7. ♕d1 ♗xc3+ 8. bxc3 ♘c6\n",
            "\n",
            "c) 6. ♘f3 6... ♘e4 7. ♗d2 ♘xd2 8. ♘xd2 f5 9. e3 ♗xc5 10. ♗e2 O-O\n",
            "\n",
            "5... b6\n",
            "\n",
            "5... ♘e4 6. e3 ♕a5 7. ♗d3 ( 7. ♗d2 ♘xd2 8. ♘xd2 cxd4 9. exd4 ♘c6 ) 7... ♘xc3 8. O-O ♘xa2 9. ♖xa2 ♕c7\n",
            "\n",
            "6. a3 ♗a5\n",
            "\n",
            "\n",
            "     \n",
            " 1. d4  Nf6 2. c4 e6 3. Nc3 Bb4 4. Qb3\n",
            "\n",
            "4. Bd2 O-O 5. e3\n",
            "\n",
            "a) 5... b6 6. Nf3 Bb7 7. Bd3 d5 ( 7... d6 8. O-O Nbd7 9. a3 Bxc3 10. Bxc3 Ne4 ) 8. O-O\n",
            "\n",
            "b) 5... d5 6. Nf3 b6 ( 6... Re8 7. Bd3 dxc4 8. Bxc4 ) 7. a3 Be7\n",
            "\n",
            "4. Bg5 c5\n",
            "\n",
            "a) 5. dxc5\n",
            "\n",
            "a1) 5... h6 6. Bh4 ( 6. Bd2 ) 6... Qa5 7. Bxf6\n",
            "\n",
            "a2) 5... Na6 6. Qc2 Nxc5 7. a3 Bxc3+ 8. Qxc3 b6\n",
            "\n",
            "b) 5. d5 d6\n",
            "\n",
            "b1) 6. e3 exd5 7. cxd5 Nbd7\n",
            "\n",
            "b11) 8. Nf3 Qa5\n",
            "\n",
            "b12) 8. Bd3 Qa5 9. Ne2 Nxd5 10. O-O Bxc3 11. bxc3 c4 12. Bc2 ( 12. Be4 N5f6 13. Bxf6 Nxf6 14. Bf3 Qc5 ; 12. Bxc4 N5b6 ) 12... O-O\n",
            "\n",
            "b121) 13. Qd4 Nxc3\n",
            "\n",
            "b122) 13. Ng3 Nxc3 14. Qh5 f5 15. e4 ( 15. Be7 Rf7 16. Nxf5 Ne5 17. Bxd6 Bxf5 18. Bxf5 Nf3+ 19. Qxf3 Qxf5 20. Qxf5 Ne2+ 21. Kh1 Rxf5 22. Rae1 Nc3 ) 15... Nxe4\n",
            "\n",
            "b123) 13. Bh4 13... Nxc3 14. Nxc3 Qxc3 15. Rc1 Qa3 ( 15... Qe5 16. Bg3 Qe6 17. Qxd6 Qxd6 18. Bxd6 Rd8 19. Be4 Nf6 ) 16. Be7 Re8 17. Bxd6 Qa6 ( 17... Qxa2 ) 18. e4 Qc6\n",
            "\n",
            "b13) 8. Bb5 8... h6 ( 8... a6 9. Bxd7+ Bxd7 10. Qf3 ) 9. Bh4 Bxc3+ 10. bxc3 O-O 11. Ne2 Nb6 12. O-O Nbxd5\n",
            "\n",
            "b2) 6. f3 6... h6 7. Bh4 O-O 8. e4 Re8 ( 8... b5 ) 9. Ne2 exd5 10. cxd5 Nbd7\n",
            "\n",
            "c) 5. e3 5... Qa5\n",
            "\n",
            "4... c5 5. Nf3\n",
            "\n",
            "5. dxc5 Nc6\n",
            "\n",
            "a) 6. Bg5 h6 ( 6... Nd4 ; 6... Bxc5 7. e3 ) 7. Bxf6 Qxf6 8. Nf3 Bxc5 ( 8... Bxc3+ 9. Qxc3 Qxc3+ 10. bxc3 Ke7 ) 9. e3 b6 10. Be2 O-O 11. O-O Bb7\n",
            "\n",
            "b) 6. a3 Nd4 7. Qd1 Bxc3+ 8. bxc3 Nc6\n",
            "\n",
            "c) 6. Nf3 6... Ne4 7. Bd2 Nxd2 8. Nxd2 f5 9. e3 Bxc5 10. Be2 O-O\n",
            "\n",
            "5... b6\n",
            "\n",
            "5... Ne4 6. e3 Qa5 7. Bd3 ( 7. Bd2 Nxd2 8. Nxd2 cxd4 9. exd4 Nc6 ) 7... Nxc3 8. O-O Nxa2 9. Rxa2 Qc7\n",
            "\n",
            "6. a3 Ba5\n",
            "\n",
            "\n",
            "     \n",
            "\n"
          ]
        }
      ]
    }
  ],
  "metadata": {
    "interpreter": {
      "hash": "cd78fef2128015050713e82ca51c6520b11aee7c9ee8df750520bbbc7384cbaa"
    },
    "kernelspec": {
      "display_name": "Python 3.7.6 64-bit ('base': conda)",
      "language": "python",
      "name": "python3"
    },
    "language_info": {
      "name": "python",
      "version": "3.7.6"
    },
    "orig_nbformat": 4,
    "colab": {
      "name": "c24normalize.ipynb",
      "provenance": []
    }
  },
  "nbformat": 4,
  "nbformat_minor": 0
}