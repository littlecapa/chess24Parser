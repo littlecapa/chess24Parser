{
  "cells": [
    {
      "cell_type": "code",
      "source": [
        "import pandas as pd\n",
        "# see https://www.utf8-chartable.de/unicode-utf8-table.pl?start=9728&number=128&names=-&utf8=dec\n",
        "import unicodedata\n",
        "\n",
        "def normalizeC24String(c24String):\n",
        "\n",
        "  \n",
        "  def checkUnicode(string):\n",
        "    if string[0:2] == \"\\\\u\":\n",
        "      return chr(int(string[2:6], 16))\n",
        "    else:\n",
        "      return string\n",
        "\n",
        "  replaceFileUrl = \"https://raw.githubusercontent.com/littlecapa/chess24Parser/main/c24Chars.csv\"\n",
        "  replaceList = pd.read_csv(replaceFileUrl, sep=';')\n",
        "  replaceList = replaceList.sort_values(\"Prio\")\n",
        "  replaceList = replaceList.fillna(\"\")\n",
        "  for index, row in replaceList.iterrows():\n",
        "    # Check for Unicodes\n",
        "    searchStr = checkUnicode(row[\"c24Symbol\"])\n",
        "    c24String = c24String.replace(searchStr, row[\"pgnStr\"])\n",
        "  return c24String\n"
      ],
      "metadata": {
        "id": "PXVp8CrLNxXB"
      },
      "execution_count": 82,
      "outputs": []
    },
    {
      "cell_type": "code",
      "source": [
        "def Test_normalizeC24String():\n",
        "  # Test Case 1\n",
        "  c24String =\"1. d4 d5+/= 2. c4+- c6-+ 3. ♘f3=/+ ♘f6 4. ♘c3 dxc4 5. a4! ♗f5? 6. e3!! e6?? 7. ♗xc4!? ♗b4?! 8. O-O= O-O 9. ♕e2\"\n",
        "  normString = normalizeC24String(c24String)\n",
        "  if normString != \"1. d4 d5$14 2. c4$18 c6$19 3. Nf3$15 Nf6 4. Nc3 dxc4 5. a4$28 Bf5$29 6. e3$3 e6$4 7. Bxc4$24 Bb4$25 8. O-O$10 O-O 9. Qe2\":\n",
        "    print(\"Error\")"
      ],
      "metadata": {
        "id": "UbEJu8Y1uF3G"
      },
      "execution_count": 83,
      "outputs": []
    },
    {
      "cell_type": "code",
      "source": [
        "Test_normalizeC24String()"
      ],
      "metadata": {
        "id": "JYre-B-eD1fJ"
      },
      "execution_count": 84,
      "outputs": []
    }
  ],
  "metadata": {
    "interpreter": {
      "hash": "cd78fef2128015050713e82ca51c6520b11aee7c9ee8df750520bbbc7384cbaa"
    },
    "kernelspec": {
      "display_name": "Python 3.7.6 64-bit ('base': conda)",
      "language": "python",
      "name": "python3"
    },
    "language_info": {
      "name": "python",
      "version": "3.7.6"
    },
    "orig_nbformat": 4,
    "colab": {
      "name": "c24normalize.ipynb",
      "provenance": []
    }
  },
  "nbformat": 4,
  "nbformat_minor": 0
}